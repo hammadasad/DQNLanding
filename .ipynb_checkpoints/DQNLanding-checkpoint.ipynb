{
 "cells": [
  {
   "cell_type": "code",
   "execution_count": 2,
   "metadata": {},
   "outputs": [],
   "source": [
    "import os\n",
    "import torch as pyTorch\n",
    "import torch.nn as nn\n",
    "import torch.nn.functional as function\n",
    "import torch.optim as optim\n",
    "import numpy as np"
   ]
  },
  {
   "cell_type": "code",
   "execution_count": null,
   "metadata": {},
   "outputs": [],
   "source": [
    "# Deep Q Network\n",
    "class DeepQNetwork(nn.Module):\n",
    "    def __init__(self, learning_rate, input_dimensions, fc1_dimensions, fc2_dimensions, num_actions):\n",
    "        super(DeepQNetwork, self).__init__()\n",
    "        self.input_dimensions\n",
    "        self.fc1_dimensions = fc1_dimensions\n",
    "        self.fc2_dimensions = fc2_dimensions\n",
    "        self.num_actions = num_actions\n",
    "        self.fc1 = nn.Linear(*self.input_dim, self.fc1_dimensions)\n",
    "        self.fc2 = nn.Linear(self.fc1_dimensions, self.fc2_dimensions)\n",
    "        self.fc3 = nn.Linear(self.fc2_dimensions, self.num_actions)\n",
    "        self.optimizer = optim.Adam(self.parameters(), lr = learning_rate)\n",
    "        self.loss = nn.MSELoss()"
   ]
  }
 ],
 "metadata": {
  "kernelspec": {
   "display_name": "Python 3",
   "language": "python",
   "name": "python3"
  },
  "language_info": {
   "codemirror_mode": {
    "name": "ipython",
    "version": 3
   },
   "file_extension": ".py",
   "mimetype": "text/x-python",
   "name": "python",
   "nbconvert_exporter": "python",
   "pygments_lexer": "ipython3",
   "version": "3.7.4"
  }
 },
 "nbformat": 4,
 "nbformat_minor": 2
}
